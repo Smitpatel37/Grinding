{
 "cells": [
  {
   "cell_type": "code",
   "execution_count": 3,
   "metadata": {},
   "outputs": [],
   "source": [
    "from tensorflow.keras.layers import Input, Lambda, Dense, Flatten,Conv2D\n",
    "from tensorflow.keras.models import Model\n",
    "from tensorflow.keras.applications.vgg19 import VGG19\n",
    "from tensorflow.keras.applications.resnet50 import preprocess_input\n",
    "from tensorflow.keras.preprocessing import image\n",
    "from tensorflow.keras.preprocessing.image import ImageDataGenerator,load_img\n",
    "from tensorflow.keras.models import Sequential\n",
    "import numpy as np\n",
    "from glob import glob\n",
    "import matplotlib.pyplot as plt"
   ]
  },
  {
   "cell_type": "code",
   "execution_count": 12,
   "metadata": {},
   "outputs": [],
   "source": [
    "IMAGE_SIZE = [224, 224]\n",
    "\n",
    "mobilnet = VGG19(input_shape=IMAGE_SIZE + [3], weights='imagenet', include_top=False)"
   ]
  },
  {
   "cell_type": "code",
   "execution_count": 13,
   "metadata": {},
   "outputs": [],
   "source": [
    "for layer in mobilnet.layers:\n",
    "    layer.trainable = False"
   ]
  },
  {
   "cell_type": "code",
   "execution_count": 14,
   "metadata": {},
   "outputs": [
    {
     "data": {
      "text/plain": [
       "['Dataset/Train\\\\Parasite', 'Dataset/Train\\\\Uninfected']"
      ]
     },
     "execution_count": 14,
     "metadata": {},
     "output_type": "execute_result"
    }
   ],
   "source": [
    "folders = glob('Dataset/Train/*')\n",
    "folders"
   ]
  },
  {
   "cell_type": "code",
   "execution_count": 15,
   "metadata": {},
   "outputs": [
    {
     "name": "stdout",
     "output_type": "stream",
     "text": [
      "Model: \"vgg19\"\n",
      "_________________________________________________________________\n",
      "Layer (type)                 Output Shape              Param #   \n",
      "=================================================================\n",
      "input_2 (InputLayer)         [(None, 224, 224, 3)]     0         \n",
      "_________________________________________________________________\n",
      "block1_conv1 (Conv2D)        (None, 224, 224, 64)      1792      \n",
      "_________________________________________________________________\n",
      "block1_conv2 (Conv2D)        (None, 224, 224, 64)      36928     \n",
      "_________________________________________________________________\n",
      "block1_pool (MaxPooling2D)   (None, 112, 112, 64)      0         \n",
      "_________________________________________________________________\n",
      "block2_conv1 (Conv2D)        (None, 112, 112, 128)     73856     \n",
      "_________________________________________________________________\n",
      "block2_conv2 (Conv2D)        (None, 112, 112, 128)     147584    \n",
      "_________________________________________________________________\n",
      "block2_pool (MaxPooling2D)   (None, 56, 56, 128)       0         \n",
      "_________________________________________________________________\n",
      "block3_conv1 (Conv2D)        (None, 56, 56, 256)       295168    \n",
      "_________________________________________________________________\n",
      "block3_conv2 (Conv2D)        (None, 56, 56, 256)       590080    \n",
      "_________________________________________________________________\n",
      "block3_conv3 (Conv2D)        (None, 56, 56, 256)       590080    \n",
      "_________________________________________________________________\n",
      "block3_conv4 (Conv2D)        (None, 56, 56, 256)       590080    \n",
      "_________________________________________________________________\n",
      "block3_pool (MaxPooling2D)   (None, 28, 28, 256)       0         \n",
      "_________________________________________________________________\n",
      "block4_conv1 (Conv2D)        (None, 28, 28, 512)       1180160   \n",
      "_________________________________________________________________\n",
      "block4_conv2 (Conv2D)        (None, 28, 28, 512)       2359808   \n",
      "_________________________________________________________________\n",
      "block4_conv3 (Conv2D)        (None, 28, 28, 512)       2359808   \n",
      "_________________________________________________________________\n",
      "block4_conv4 (Conv2D)        (None, 28, 28, 512)       2359808   \n",
      "_________________________________________________________________\n",
      "block4_pool (MaxPooling2D)   (None, 14, 14, 512)       0         \n",
      "_________________________________________________________________\n",
      "block5_conv1 (Conv2D)        (None, 14, 14, 512)       2359808   \n",
      "_________________________________________________________________\n",
      "block5_conv2 (Conv2D)        (None, 14, 14, 512)       2359808   \n",
      "_________________________________________________________________\n",
      "block5_conv3 (Conv2D)        (None, 14, 14, 512)       2359808   \n",
      "_________________________________________________________________\n",
      "block5_conv4 (Conv2D)        (None, 14, 14, 512)       2359808   \n",
      "_________________________________________________________________\n",
      "block5_pool (MaxPooling2D)   (None, 7, 7, 512)         0         \n",
      "=================================================================\n",
      "Total params: 20,024,384\n",
      "Trainable params: 0\n",
      "Non-trainable params: 20,024,384\n",
      "_________________________________________________________________\n"
     ]
    }
   ],
   "source": [
    "mobilnet.summary()"
   ]
  },
  {
   "cell_type": "code",
   "execution_count": 17,
   "metadata": {},
   "outputs": [],
   "source": [
    "x = Flatten()(mobilnet.output)"
   ]
  },
  {
   "cell_type": "code",
   "execution_count": 29,
   "metadata": {},
   "outputs": [],
   "source": [
    "#prediction = Dense(500,activation=\"relu\")(x)\n",
    "#prediction = Dense(len(folders), activation='softmax')(prediction)\n",
    "prediction = Dense(len(folders), activation='softmax')(x)\n",
    "\n",
    "# create a model object\n",
    "model = Model(inputs=mobilnet.input, outputs=prediction)"
   ]
  },
  {
   "cell_type": "code",
   "execution_count": 30,
   "metadata": {},
   "outputs": [
    {
     "name": "stdout",
     "output_type": "stream",
     "text": [
      "Model: \"model_2\"\n",
      "_________________________________________________________________\n",
      "Layer (type)                 Output Shape              Param #   \n",
      "=================================================================\n",
      "input_2 (InputLayer)         [(None, 224, 224, 3)]     0         \n",
      "_________________________________________________________________\n",
      "block1_conv1 (Conv2D)        (None, 224, 224, 64)      1792      \n",
      "_________________________________________________________________\n",
      "block1_conv2 (Conv2D)        (None, 224, 224, 64)      36928     \n",
      "_________________________________________________________________\n",
      "block1_pool (MaxPooling2D)   (None, 112, 112, 64)      0         \n",
      "_________________________________________________________________\n",
      "block2_conv1 (Conv2D)        (None, 112, 112, 128)     73856     \n",
      "_________________________________________________________________\n",
      "block2_conv2 (Conv2D)        (None, 112, 112, 128)     147584    \n",
      "_________________________________________________________________\n",
      "block2_pool (MaxPooling2D)   (None, 56, 56, 128)       0         \n",
      "_________________________________________________________________\n",
      "block3_conv1 (Conv2D)        (None, 56, 56, 256)       295168    \n",
      "_________________________________________________________________\n",
      "block3_conv2 (Conv2D)        (None, 56, 56, 256)       590080    \n",
      "_________________________________________________________________\n",
      "block3_conv3 (Conv2D)        (None, 56, 56, 256)       590080    \n",
      "_________________________________________________________________\n",
      "block3_conv4 (Conv2D)        (None, 56, 56, 256)       590080    \n",
      "_________________________________________________________________\n",
      "block3_pool (MaxPooling2D)   (None, 28, 28, 256)       0         \n",
      "_________________________________________________________________\n",
      "block4_conv1 (Conv2D)        (None, 28, 28, 512)       1180160   \n",
      "_________________________________________________________________\n",
      "block4_conv2 (Conv2D)        (None, 28, 28, 512)       2359808   \n",
      "_________________________________________________________________\n",
      "block4_conv3 (Conv2D)        (None, 28, 28, 512)       2359808   \n",
      "_________________________________________________________________\n",
      "block4_conv4 (Conv2D)        (None, 28, 28, 512)       2359808   \n",
      "_________________________________________________________________\n",
      "block4_pool (MaxPooling2D)   (None, 14, 14, 512)       0         \n",
      "_________________________________________________________________\n",
      "block5_conv1 (Conv2D)        (None, 14, 14, 512)       2359808   \n",
      "_________________________________________________________________\n",
      "block5_conv2 (Conv2D)        (None, 14, 14, 512)       2359808   \n",
      "_________________________________________________________________\n",
      "block5_conv3 (Conv2D)        (None, 14, 14, 512)       2359808   \n",
      "_________________________________________________________________\n",
      "block5_conv4 (Conv2D)        (None, 14, 14, 512)       2359808   \n",
      "_________________________________________________________________\n",
      "block5_pool (MaxPooling2D)   (None, 7, 7, 512)         0         \n",
      "_________________________________________________________________\n",
      "flatten (Flatten)            (None, 25088)             0         \n",
      "_________________________________________________________________\n",
      "dense_3 (Dense)              (None, 2)                 50178     \n",
      "=================================================================\n",
      "Total params: 20,074,562\n",
      "Trainable params: 50,178\n",
      "Non-trainable params: 20,024,384\n",
      "_________________________________________________________________\n"
     ]
    }
   ],
   "source": [
    "model.summary()"
   ]
  },
  {
   "cell_type": "code",
   "execution_count": 31,
   "metadata": {},
   "outputs": [],
   "source": [
    "model.compile(\n",
    "  loss='categorical_crossentropy',\n",
    "  optimizer='adam',\n",
    "  metrics=['accuracy']\n",
    ")"
   ]
  },
  {
   "cell_type": "code",
   "execution_count": 32,
   "metadata": {},
   "outputs": [],
   "source": [
    "from tensorflow.keras.preprocessing.image import ImageDataGenerator\n",
    "\n",
    "train_datagen = ImageDataGenerator(rescale = 1./255,\n",
    "                                   shear_range = 0.2,\n",
    "                                   zoom_range = 0.2,\n",
    "                                   horizontal_flip = True)\n",
    "\n",
    "test_datagen = ImageDataGenerator(rescale = 1./255)"
   ]
  },
  {
   "cell_type": "code",
   "execution_count": 33,
   "metadata": {},
   "outputs": [
    {
     "name": "stdout",
     "output_type": "stream",
     "text": [
      "Found 416 images belonging to 2 classes.\n"
     ]
    }
   ],
   "source": [
    "training_set = train_datagen.flow_from_directory('Dataset/Train',\n",
    "                                                 target_size = (224, 224),\n",
    "                                                 batch_size = 32,\n",
    "                                                 class_mode = 'categorical')"
   ]
  },
  {
   "cell_type": "code",
   "execution_count": 34,
   "metadata": {},
   "outputs": [
    {
     "name": "stdout",
     "output_type": "stream",
     "text": [
      "Found 134 images belonging to 2 classes.\n"
     ]
    }
   ],
   "source": [
    "test_set = test_datagen.flow_from_directory('Dataset/Test',\n",
    "                                            target_size = (224, 224),\n",
    "                                            batch_size = 32,\n",
    "                                            class_mode = 'categorical')"
   ]
  },
  {
   "cell_type": "code",
   "execution_count": 35,
   "metadata": {},
   "outputs": [
    {
     "name": "stdout",
     "output_type": "stream",
     "text": [
      "Epoch 1/50\n",
      "13/13 [==============================] - 149s 12s/step - loss: 1.2935 - accuracy: 0.5096 - val_loss: 0.5096 - val_accuracy: 0.7388\n",
      "Epoch 2/50\n",
      "13/13 [==============================] - 152s 12s/step - loss: 0.5091 - accuracy: 0.7380 - val_loss: 0.5719 - val_accuracy: 0.7090\n",
      "Epoch 3/50\n",
      "13/13 [==============================] - 155s 12s/step - loss: 0.3987 - accuracy: 0.8269 - val_loss: 0.4257 - val_accuracy: 0.8134\n",
      "Epoch 4/50\n",
      "13/13 [==============================] - 156s 12s/step - loss: 0.3297 - accuracy: 0.8846 - val_loss: 0.4863 - val_accuracy: 0.7612\n",
      "Epoch 5/50\n",
      "13/13 [==============================] - 155s 12s/step - loss: 0.3352 - accuracy: 0.8510 - val_loss: 0.3630 - val_accuracy: 0.8134\n",
      "Epoch 6/50\n",
      "13/13 [==============================] - 155s 12s/step - loss: 0.2724 - accuracy: 0.9183 - val_loss: 0.3700 - val_accuracy: 0.8358\n",
      "Epoch 7/50\n",
      "13/13 [==============================] - 155s 12s/step - loss: 0.2629 - accuracy: 0.9062 - val_loss: 0.3628 - val_accuracy: 0.8657\n",
      "Epoch 8/50\n",
      "13/13 [==============================] - 155s 12s/step - loss: 0.2751 - accuracy: 0.9014 - val_loss: 0.3078 - val_accuracy: 0.9104\n",
      "Epoch 9/50\n",
      "13/13 [==============================] - 155s 12s/step - loss: 0.2138 - accuracy: 0.9135 - val_loss: 0.3645 - val_accuracy: 0.8284\n",
      "Epoch 10/50\n",
      "13/13 [==============================] - 155s 12s/step - loss: 0.2465 - accuracy: 0.8894 - val_loss: 0.3353 - val_accuracy: 0.8731\n",
      "Epoch 11/50\n",
      "13/13 [==============================] - 155s 12s/step - loss: 0.2260 - accuracy: 0.9207 - val_loss: 0.2991 - val_accuracy: 0.8433\n",
      "Epoch 12/50\n",
      "13/13 [==============================] - 155s 12s/step - loss: 0.1919 - accuracy: 0.9159 - val_loss: 0.3472 - val_accuracy: 0.8507\n",
      "Epoch 13/50\n",
      "13/13 [==============================] - 155s 12s/step - loss: 0.1717 - accuracy: 0.9615 - val_loss: 0.2582 - val_accuracy: 0.9104\n",
      "Epoch 14/50\n",
      "13/13 [==============================] - 155s 12s/step - loss: 0.1736 - accuracy: 0.9543 - val_loss: 0.2602 - val_accuracy: 0.9179\n",
      "Epoch 15/50\n",
      "13/13 [==============================] - 155s 12s/step - loss: 0.1657 - accuracy: 0.9471 - val_loss: 0.3915 - val_accuracy: 0.7761\n",
      "Epoch 16/50\n",
      "13/13 [==============================] - 155s 12s/step - loss: 0.1544 - accuracy: 0.9567 - val_loss: 0.2508 - val_accuracy: 0.9030\n",
      "Epoch 17/50\n",
      "13/13 [==============================] - 156s 12s/step - loss: 0.2483 - accuracy: 0.8894 - val_loss: 0.4138 - val_accuracy: 0.7313\n",
      "Epoch 18/50\n",
      "13/13 [==============================] - 155s 12s/step - loss: 0.2058 - accuracy: 0.9207 - val_loss: 0.4809 - val_accuracy: 0.7463\n",
      "Epoch 19/50\n",
      "13/13 [==============================] - 156s 12s/step - loss: 0.1872 - accuracy: 0.9303 - val_loss: 0.2449 - val_accuracy: 0.9030\n",
      "Epoch 20/50\n",
      "13/13 [==============================] - 163s 13s/step - loss: 0.1691 - accuracy: 0.9351 - val_loss: 0.4424 - val_accuracy: 0.7463\n",
      "Epoch 21/50\n",
      "13/13 [==============================] - 154s 12s/step - loss: 0.1412 - accuracy: 0.9519 - val_loss: 0.4471 - val_accuracy: 0.7537\n",
      "Epoch 22/50\n",
      "13/13 [==============================] - 160s 13s/step - loss: 0.1366 - accuracy: 0.9519 - val_loss: 0.2356 - val_accuracy: 0.9030\n",
      "Epoch 23/50\n",
      "13/13 [==============================] - 159s 12s/step - loss: 0.1254 - accuracy: 0.9615 - val_loss: 0.3027 - val_accuracy: 0.8806\n",
      "Epoch 24/50\n",
      "13/13 [==============================] - 159s 12s/step - loss: 0.1061 - accuracy: 0.9808 - val_loss: 0.2514 - val_accuracy: 0.9030\n",
      "Epoch 25/50\n",
      "13/13 [==============================] - 158s 12s/step - loss: 0.1373 - accuracy: 0.9495 - val_loss: 0.2610 - val_accuracy: 0.8955\n",
      "Epoch 26/50\n",
      "13/13 [==============================] - 159s 12s/step - loss: 0.1353 - accuracy: 0.9519 - val_loss: 0.2118 - val_accuracy: 0.9254\n",
      "Epoch 27/50\n",
      "13/13 [==============================] - 160s 12s/step - loss: 0.1081 - accuracy: 0.9688 - val_loss: 0.2141 - val_accuracy: 0.9254\n",
      "Epoch 28/50\n",
      "13/13 [==============================] - 159s 12s/step - loss: 0.1113 - accuracy: 0.9736 - val_loss: 0.2604 - val_accuracy: 0.8955\n",
      "Epoch 29/50\n",
      "13/13 [==============================] - 159s 12s/step - loss: 0.1088 - accuracy: 0.9639 - val_loss: 0.2791 - val_accuracy: 0.9030\n",
      "Epoch 30/50\n",
      "13/13 [==============================] - 159s 12s/step - loss: 0.0994 - accuracy: 0.9712 - val_loss: 0.2538 - val_accuracy: 0.9179\n",
      "Epoch 31/50\n",
      "13/13 [==============================] - 160s 12s/step - loss: 0.1037 - accuracy: 0.9760 - val_loss: 0.3042 - val_accuracy: 0.8657\n",
      "Epoch 32/50\n",
      "13/13 [==============================] - 159s 12s/step - loss: 0.1043 - accuracy: 0.9688 - val_loss: 0.2887 - val_accuracy: 0.8806\n",
      "Epoch 33/50\n",
      "13/13 [==============================] - 160s 12s/step - loss: 0.0980 - accuracy: 0.9760 - val_loss: 0.2098 - val_accuracy: 0.9179\n",
      "Epoch 34/50\n",
      "13/13 [==============================] - 159s 12s/step - loss: 0.1042 - accuracy: 0.9712 - val_loss: 0.2026 - val_accuracy: 0.9254\n",
      "Epoch 35/50\n",
      "13/13 [==============================] - 160s 12s/step - loss: 0.0950 - accuracy: 0.9760 - val_loss: 0.3542 - val_accuracy: 0.8433\n",
      "Epoch 36/50\n",
      "13/13 [==============================] - 160s 13s/step - loss: 0.0955 - accuracy: 0.9615 - val_loss: 0.1862 - val_accuracy: 0.9328\n",
      "Epoch 37/50\n",
      "13/13 [==============================] - 159s 12s/step - loss: 0.1017 - accuracy: 0.9712 - val_loss: 0.2840 - val_accuracy: 0.8955\n",
      "Epoch 38/50\n",
      "13/13 [==============================] - 158s 12s/step - loss: 0.0910 - accuracy: 0.9832 - val_loss: 0.2688 - val_accuracy: 0.9030\n",
      "Epoch 39/50\n",
      "13/13 [==============================] - 158s 12s/step - loss: 0.0878 - accuracy: 0.9784 - val_loss: 0.2619 - val_accuracy: 0.8955\n",
      "Epoch 40/50\n",
      "13/13 [==============================] - 159s 12s/step - loss: 0.0883 - accuracy: 0.9784 - val_loss: 0.1911 - val_accuracy: 0.9403\n",
      "Epoch 41/50\n",
      "13/13 [==============================] - 159s 12s/step - loss: 0.0955 - accuracy: 0.9712 - val_loss: 0.3764 - val_accuracy: 0.8134\n",
      "Epoch 42/50\n",
      "13/13 [==============================] - 158s 12s/step - loss: 0.1287 - accuracy: 0.9543 - val_loss: 0.2854 - val_accuracy: 0.8582\n",
      "Epoch 43/50\n",
      "13/13 [==============================] - 158s 12s/step - loss: 0.1139 - accuracy: 0.9567 - val_loss: 0.2844 - val_accuracy: 0.8731\n",
      "Epoch 44/50\n",
      "13/13 [==============================] - 158s 12s/step - loss: 0.0959 - accuracy: 0.9688 - val_loss: 0.1965 - val_accuracy: 0.9030\n",
      "Epoch 45/50\n",
      "13/13 [==============================] - 158s 12s/step - loss: 0.0842 - accuracy: 0.9760 - val_loss: 0.1923 - val_accuracy: 0.9030\n",
      "Epoch 46/50\n",
      "13/13 [==============================] - 158s 12s/step - loss: 0.0761 - accuracy: 0.9832 - val_loss: 0.1804 - val_accuracy: 0.9254\n",
      "Epoch 47/50\n",
      "13/13 [==============================] - 158s 12s/step - loss: 0.0718 - accuracy: 0.9832 - val_loss: 0.2244 - val_accuracy: 0.9030\n",
      "Epoch 48/50\n",
      "13/13 [==============================] - 157s 12s/step - loss: 0.0857 - accuracy: 0.9591 - val_loss: 0.2099 - val_accuracy: 0.8955\n",
      "Epoch 49/50\n",
      "13/13 [==============================] - 157s 12s/step - loss: 0.0555 - accuracy: 0.9928 - val_loss: 0.2298 - val_accuracy: 0.9030\n",
      "Epoch 50/50\n",
      "13/13 [==============================] - 157s 12s/step - loss: 0.0839 - accuracy: 0.9760 - val_loss: 0.3033 - val_accuracy: 0.8507\n"
     ]
    }
   ],
   "source": [
    "r = model.fit(\n",
    "  training_set,\n",
    "  validation_data=test_set,\n",
    "  epochs=50,\n",
    "  steps_per_epoch=len(training_set),\n",
    "  validation_steps=len(test_set)\n",
    ")"
   ]
  },
  {
   "cell_type": "code",
   "execution_count": 36,
   "metadata": {},
   "outputs": [
    {
     "data": {
      "image/png": "[encoded data removed]",
      "text/plain": [
       "<Figure size 432x288 with 1 Axes>"
      ]
     },
     "metadata": {
      "needs_background": "light"
     },
     "output_type": "display_data"
    },
    {
     "data": {
      "image/png": "[encoded data removed]",
      "text/plain": [
       "<Figure size 432x288 with 1 Axes>"
      ]
     },
     "metadata": {
      "needs_background": "light"
     },
     "output_type": "display_data"
    },
    {
     "data": {
      "text/plain": [
       "<Figure size 432x288 with 0 Axes>"
      ]
     },
     "metadata": {},
     "output_type": "display_data"
    }
   ],
   "source": [
    "# plot the loss\n",
    "plt.plot(r.history['loss'], label='train loss')\n",
    "plt.plot(r.history['val_loss'], label='val loss')\n",
    "plt.legend()\n",
    "plt.show()\n",
    "plt.savefig('LossVal_loss')\n",
    "\n",
    "# plot the accuracy\n",
    "plt.plot(r.history['accuracy'], label='train acc')\n",
    "plt.plot(r.history['val_accuracy'], label='val acc')\n",
    "plt.legend()\n",
    "plt.show()\n",
    "plt.savefig('AccVal_acc')"
   ]
  },
  {
   "cell_type": "code",
   "execution_count": 37,
   "metadata": {},
   "outputs": [],
   "source": [
    "from tensorflow.keras.models import load_model\n",
    "\n",
    "model.save('model_vgg19.h5')"
   ]
  },
  {
   "cell_type": "code",
   "execution_count": null,
   "metadata": {},
   "outputs": [],
   "source": []
  }
 ],
 "metadata": {
  "kernelspec": {
   "display_name": "Python 3",
   "language": "python",
   "name": "python3"
  },
  "language_info": {
   "codemirror_mode": {
    "name": "ipython",
    "version": 3
   },
   "file_extension": ".py",
   "mimetype": "text/x-python",
   "name": "python",
   "nbconvert_exporter": "python",
   "pygments_lexer": "ipython3",
   "version": "3.8.8"
  }
 },
 "nbformat": 4,
 "nbformat_minor": 4
}
